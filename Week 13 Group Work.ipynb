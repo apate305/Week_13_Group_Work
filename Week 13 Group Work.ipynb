{
 "cells": [
  {
   "cell_type": "code",
   "execution_count": 2,
   "id": "2e0c68ff",
   "metadata": {},
   "outputs": [],
   "source": [
    "import numpy as np\n",
    "import pandas as pd\n",
    "import matplotlib.pyplot as plt\n",
    "import seaborn as sns\n",
    "\n",
    "\n",
    "\n",
    "from sklearn.neighbors import KNeighborsClassifier\n",
    "from sklearn.model_selection import train_test_split"
   ]
  },
  {
   "cell_type": "markdown",
   "id": "127ac24b",
   "metadata": {},
   "source": [
    "1. In markdown, describe KNN in your own words."
   ]
  },
  {
   "attachments": {},
   "cell_type": "markdown",
   "id": "81023333",
   "metadata": {},
   "source": [
    "KNN a supervised learning algorithm, stands for k-Nearest Neighbours. It is the algorithm that is used to predict what group a datapoint belongs to based on the following idea--similar things exist in close proximity. The K is what indicates the amount of datapoints you want the a unknown datapoint to listen to in order to see what group it could belong to. KNN is considered to be the first step in machine learning."
   ]
  },
  {
   "cell_type": "markdown",
   "id": "2a9f3adc",
   "metadata": {},
   "source": [
    "2. Using the KNN example from class, write a function that finds the optimal value for k. You should iterate over a range of values and return the k and the score when the accuracy score is maximized. Be sure to only use odd values."
   ]
  },
  {
   "cell_type": "code",
   "execution_count": 33,
   "id": "9fc99fd8",
   "metadata": {},
   "outputs": [
    {
     "data": {
      "text/html": [
       "<div>\n",
       "<style scoped>\n",
       "    .dataframe tbody tr th:only-of-type {\n",
       "        vertical-align: middle;\n",
       "    }\n",
       "\n",
       "    .dataframe tbody tr th {\n",
       "        vertical-align: top;\n",
       "    }\n",
       "\n",
       "    .dataframe thead th {\n",
       "        text-align: right;\n",
       "    }\n",
       "</style>\n",
       "<table border=\"1\" class=\"dataframe\">\n",
       "  <thead>\n",
       "    <tr style=\"text-align: right;\">\n",
       "      <th></th>\n",
       "      <th>Pregnancies</th>\n",
       "      <th>Glucose</th>\n",
       "      <th>BloodPressure</th>\n",
       "      <th>SkinThickness</th>\n",
       "      <th>Insulin</th>\n",
       "      <th>BMI</th>\n",
       "      <th>DiabetesPedigreeFunction</th>\n",
       "      <th>Age</th>\n",
       "      <th>Outcome</th>\n",
       "    </tr>\n",
       "  </thead>\n",
       "  <tbody>\n",
       "    <tr>\n",
       "      <th>0</th>\n",
       "      <td>6</td>\n",
       "      <td>148</td>\n",
       "      <td>72</td>\n",
       "      <td>35</td>\n",
       "      <td>0</td>\n",
       "      <td>33.6</td>\n",
       "      <td>0.627</td>\n",
       "      <td>50</td>\n",
       "      <td>1</td>\n",
       "    </tr>\n",
       "    <tr>\n",
       "      <th>1</th>\n",
       "      <td>1</td>\n",
       "      <td>85</td>\n",
       "      <td>66</td>\n",
       "      <td>29</td>\n",
       "      <td>0</td>\n",
       "      <td>26.6</td>\n",
       "      <td>0.351</td>\n",
       "      <td>31</td>\n",
       "      <td>0</td>\n",
       "    </tr>\n",
       "    <tr>\n",
       "      <th>2</th>\n",
       "      <td>8</td>\n",
       "      <td>183</td>\n",
       "      <td>64</td>\n",
       "      <td>0</td>\n",
       "      <td>0</td>\n",
       "      <td>23.3</td>\n",
       "      <td>0.672</td>\n",
       "      <td>32</td>\n",
       "      <td>1</td>\n",
       "    </tr>\n",
       "    <tr>\n",
       "      <th>3</th>\n",
       "      <td>1</td>\n",
       "      <td>89</td>\n",
       "      <td>66</td>\n",
       "      <td>23</td>\n",
       "      <td>94</td>\n",
       "      <td>28.1</td>\n",
       "      <td>0.167</td>\n",
       "      <td>21</td>\n",
       "      <td>0</td>\n",
       "    </tr>\n",
       "    <tr>\n",
       "      <th>4</th>\n",
       "      <td>0</td>\n",
       "      <td>137</td>\n",
       "      <td>40</td>\n",
       "      <td>35</td>\n",
       "      <td>168</td>\n",
       "      <td>43.1</td>\n",
       "      <td>2.288</td>\n",
       "      <td>33</td>\n",
       "      <td>1</td>\n",
       "    </tr>\n",
       "  </tbody>\n",
       "</table>\n",
       "</div>"
      ],
      "text/plain": [
       "   Pregnancies  Glucose  BloodPressure  SkinThickness  Insulin   BMI  \\\n",
       "0            6      148             72             35        0  33.6   \n",
       "1            1       85             66             29        0  26.6   \n",
       "2            8      183             64              0        0  23.3   \n",
       "3            1       89             66             23       94  28.1   \n",
       "4            0      137             40             35      168  43.1   \n",
       "\n",
       "   DiabetesPedigreeFunction  Age  Outcome  \n",
       "0                     0.627   50        1  \n",
       "1                     0.351   31        0  \n",
       "2                     0.672   32        1  \n",
       "3                     0.167   21        0  \n",
       "4                     2.288   33        1  "
      ]
     },
     "execution_count": 33,
     "metadata": {},
     "output_type": "execute_result"
    }
   ],
   "source": [
    "diabetes_df = pd.read_csv(\"diabetes copy.csv\")\n",
    "diabetes_df.head()"
   ]
  },
  {
   "cell_type": "code",
   "execution_count": 47,
   "id": "2e951cae",
   "metadata": {},
   "outputs": [],
   "source": [
    "X = diabetes_df.drop('Outcome',axis=1)\n",
    "y = diabetes_df['Outcome']\n",
    "\n",
    "X_train, X_test, y_train, y_test = train_test_split(X, y, test_size=0.3, random_state=42)\n",
    "\n",
    "#Standardization-transforming values so mean is 0 and SD is 1\n",
    "from sklearn.preprocessing import StandardScaler\n",
    "sc = StandardScaler()\n",
    "X_train = sc.fit_transform(X_train)\n",
    "X_test = sc.fit_transform(X_test)"
   ]
  },
  {
   "cell_type": "code",
   "execution_count": 45,
   "id": "492921f5",
   "metadata": {},
   "outputs": [],
   "source": [
    "from sklearn.preprocessing import StandardScaler\n",
    "\n",
    "def optimal_k (x):\n",
    "    for a in range(1, 100, 2):\n",
    "        knn=KNeighborsClassifier(n_neighbors= a)\n",
    "        knn.fit(X_train, y_train)\n",
    "        y_predict = knn.predict(X_test)\n",
    "        print(knn.score(X_test,y_test))"
   ]
  },
  {
   "cell_type": "code",
   "execution_count": 46,
   "id": "f13184e5",
   "metadata": {
    "scrolled": true
   },
   "outputs": [
    {
     "name": "stdout",
     "output_type": "stream",
     "text": [
      "0.6277056277056277\n",
      "0.70995670995671\n",
      "0.7186147186147186\n",
      "0.7056277056277056\n",
      "0.70995670995671\n",
      "0.7142857142857143\n",
      "0.7142857142857143\n",
      "0.7229437229437229\n",
      "0.70995670995671\n",
      "0.7359307359307359\n",
      "0.7402597402597403\n",
      "0.7402597402597403\n",
      "0.7445887445887446\n",
      "0.7359307359307359\n",
      "0.7272727272727273\n",
      "0.7316017316017316\n",
      "0.7359307359307359\n",
      "0.7402597402597403\n",
      "0.7575757575757576\n",
      "0.7619047619047619\n",
      "0.7402597402597403\n",
      "0.7445887445887446\n",
      "0.7445887445887446\n",
      "0.7316017316017316\n",
      "0.7272727272727273\n",
      "0.7229437229437229\n",
      "0.7316017316017316\n",
      "0.7316017316017316\n",
      "0.7359307359307359\n",
      "0.7445887445887446\n",
      "0.7445887445887446\n",
      "0.7445887445887446\n",
      "0.7445887445887446\n",
      "0.7359307359307359\n",
      "0.7402597402597403\n",
      "0.7402597402597403\n",
      "0.7316017316017316\n",
      "0.7272727272727273\n",
      "0.7272727272727273\n",
      "0.7272727272727273\n",
      "0.7272727272727273\n",
      "0.7359307359307359\n",
      "0.7359307359307359\n",
      "0.7359307359307359\n",
      "0.7359307359307359\n",
      "0.7402597402597403\n",
      "0.7445887445887446\n",
      "0.7489177489177489\n",
      "0.7402597402597403\n",
      "0.7316017316017316\n"
     ]
    }
   ],
   "source": [
    "optimal_k(knn)\n"
   ]
  },
  {
   "cell_type": "code",
   "execution_count": 48,
   "id": "41d8d55a",
   "metadata": {},
   "outputs": [
    {
     "name": "stdout",
     "output_type": "stream",
     "text": [
      "0.7619047619047619\n"
     ]
    }
   ],
   "source": [
    "knn=KNeighborsClassifier(n_neighbors= 39)\n",
    "knn.fit(X_train, y_train)\n",
    "y_predict = knn.predict(X_test)\n",
    "print(knn.score(X_test,y_test))"
   ]
  },
  {
   "cell_type": "code",
   "execution_count": 49,
   "id": "3c503f97",
   "metadata": {},
   "outputs": [
    {
     "data": {
      "text/html": [
       "<div>\n",
       "<style scoped>\n",
       "    .dataframe tbody tr th:only-of-type {\n",
       "        vertical-align: middle;\n",
       "    }\n",
       "\n",
       "    .dataframe tbody tr th {\n",
       "        vertical-align: top;\n",
       "    }\n",
       "\n",
       "    .dataframe thead th {\n",
       "        text-align: right;\n",
       "    }\n",
       "</style>\n",
       "<table border=\"1\" class=\"dataframe\">\n",
       "  <thead>\n",
       "    <tr style=\"text-align: right;\">\n",
       "      <th></th>\n",
       "      <th>Pregnancies</th>\n",
       "      <th>Glucose</th>\n",
       "      <th>BloodPressure</th>\n",
       "      <th>SkinThickness</th>\n",
       "      <th>Insulin</th>\n",
       "      <th>BMI</th>\n",
       "      <th>DiabetesPedigreeFunction</th>\n",
       "      <th>Age</th>\n",
       "      <th>Actual_Outcome</th>\n",
       "      <th>Predicted_Outcome</th>\n",
       "    </tr>\n",
       "  </thead>\n",
       "  <tbody>\n",
       "    <tr>\n",
       "      <th>0</th>\n",
       "      <td>0.523387</td>\n",
       "      <td>-0.739446</td>\n",
       "      <td>-0.444600</td>\n",
       "      <td>0.720042</td>\n",
       "      <td>0.956067</td>\n",
       "      <td>0.232733</td>\n",
       "      <td>-0.152282</td>\n",
       "      <td>0.786051</td>\n",
       "      <td>0</td>\n",
       "      <td>0</td>\n",
       "    </tr>\n",
       "    <tr>\n",
       "      <th>1</th>\n",
       "      <td>-0.590921</td>\n",
       "      <td>-0.289349</td>\n",
       "      <td>0.329998</td>\n",
       "      <td>0.661122</td>\n",
       "      <td>-0.691043</td>\n",
       "      <td>0.433777</td>\n",
       "      <td>-1.077306</td>\n",
       "      <td>-1.059081</td>\n",
       "      <td>0</td>\n",
       "      <td>0</td>\n",
       "    </tr>\n",
       "    <tr>\n",
       "      <th>2</th>\n",
       "      <td>-0.590921</td>\n",
       "      <td>-0.417948</td>\n",
       "      <td>-0.171213</td>\n",
       "      <td>-1.224301</td>\n",
       "      <td>-0.691043</td>\n",
       "      <td>-0.145702</td>\n",
       "      <td>-1.044503</td>\n",
       "      <td>-1.059081</td>\n",
       "      <td>0</td>\n",
       "      <td>0</td>\n",
       "    </tr>\n",
       "    <tr>\n",
       "      <th>3</th>\n",
       "      <td>1.080541</td>\n",
       "      <td>-0.450098</td>\n",
       "      <td>0.557822</td>\n",
       "      <td>-1.224301</td>\n",
       "      <td>-0.691043</td>\n",
       "      <td>-0.878919</td>\n",
       "      <td>1.245094</td>\n",
       "      <td>0.031224</td>\n",
       "      <td>0</td>\n",
       "      <td>0</td>\n",
       "    </tr>\n",
       "    <tr>\n",
       "      <th>4</th>\n",
       "      <td>0.801964</td>\n",
       "      <td>0.482248</td>\n",
       "      <td>1.013468</td>\n",
       "      <td>-1.224301</td>\n",
       "      <td>-0.691043</td>\n",
       "      <td>-0.252136</td>\n",
       "      <td>-0.873932</td>\n",
       "      <td>1.373138</td>\n",
       "      <td>0</td>\n",
       "      <td>0</td>\n",
       "    </tr>\n",
       "    <tr>\n",
       "      <th>5</th>\n",
       "      <td>0.523387</td>\n",
       "      <td>-0.578697</td>\n",
       "      <td>0.193304</td>\n",
       "      <td>0.661122</td>\n",
       "      <td>0.956067</td>\n",
       "      <td>0.670299</td>\n",
       "      <td>-0.499986</td>\n",
       "      <td>1.792486</td>\n",
       "      <td>0</td>\n",
       "      <td>0</td>\n",
       "    </tr>\n",
       "    <tr>\n",
       "      <th>6</th>\n",
       "      <td>-0.869498</td>\n",
       "      <td>-1.607492</td>\n",
       "      <td>-0.900247</td>\n",
       "      <td>-0.163750</td>\n",
       "      <td>-0.032199</td>\n",
       "      <td>-1.375615</td>\n",
       "      <td>-0.503266</td>\n",
       "      <td>-0.975211</td>\n",
       "      <td>0</td>\n",
       "      <td>0</td>\n",
       "    </tr>\n",
       "    <tr>\n",
       "      <th>7</th>\n",
       "      <td>-1.148075</td>\n",
       "      <td>-0.128599</td>\n",
       "      <td>-3.087349</td>\n",
       "      <td>-1.224301</td>\n",
       "      <td>-0.691043</td>\n",
       "      <td>0.209081</td>\n",
       "      <td>1.494391</td>\n",
       "      <td>0.869920</td>\n",
       "      <td>0</td>\n",
       "      <td>0</td>\n",
       "    </tr>\n",
       "    <tr>\n",
       "      <th>8</th>\n",
       "      <td>-0.033767</td>\n",
       "      <td>1.060945</td>\n",
       "      <td>0.193304</td>\n",
       "      <td>0.484364</td>\n",
       "      <td>0.401251</td>\n",
       "      <td>-0.086571</td>\n",
       "      <td>-0.454063</td>\n",
       "      <td>0.282833</td>\n",
       "      <td>0</td>\n",
       "      <td>0</td>\n",
       "    </tr>\n",
       "    <tr>\n",
       "      <th>9</th>\n",
       "      <td>0.244810</td>\n",
       "      <td>0.835896</td>\n",
       "      <td>0.466692</td>\n",
       "      <td>-1.224301</td>\n",
       "      <td>-0.691043</td>\n",
       "      <td>0.197255</td>\n",
       "      <td>-0.847690</td>\n",
       "      <td>2.631182</td>\n",
       "      <td>0</td>\n",
       "      <td>1</td>\n",
       "    </tr>\n",
       "  </tbody>\n",
       "</table>\n",
       "</div>"
      ],
      "text/plain": [
       "   Pregnancies   Glucose  BloodPressure  SkinThickness   Insulin       BMI  \\\n",
       "0     0.523387 -0.739446      -0.444600       0.720042  0.956067  0.232733   \n",
       "1    -0.590921 -0.289349       0.329998       0.661122 -0.691043  0.433777   \n",
       "2    -0.590921 -0.417948      -0.171213      -1.224301 -0.691043 -0.145702   \n",
       "3     1.080541 -0.450098       0.557822      -1.224301 -0.691043 -0.878919   \n",
       "4     0.801964  0.482248       1.013468      -1.224301 -0.691043 -0.252136   \n",
       "5     0.523387 -0.578697       0.193304       0.661122  0.956067  0.670299   \n",
       "6    -0.869498 -1.607492      -0.900247      -0.163750 -0.032199 -1.375615   \n",
       "7    -1.148075 -0.128599      -3.087349      -1.224301 -0.691043  0.209081   \n",
       "8    -0.033767  1.060945       0.193304       0.484364  0.401251 -0.086571   \n",
       "9     0.244810  0.835896       0.466692      -1.224301 -0.691043  0.197255   \n",
       "\n",
       "   DiabetesPedigreeFunction       Age  Actual_Outcome  Predicted_Outcome  \n",
       "0                 -0.152282  0.786051               0                  0  \n",
       "1                 -1.077306 -1.059081               0                  0  \n",
       "2                 -1.044503 -1.059081               0                  0  \n",
       "3                  1.245094  0.031224               0                  0  \n",
       "4                 -0.873932  1.373138               0                  0  \n",
       "5                 -0.499986  1.792486               0                  0  \n",
       "6                 -0.503266 -0.975211               0                  0  \n",
       "7                  1.494391  0.869920               0                  0  \n",
       "8                 -0.454063  0.282833               0                  0  \n",
       "9                 -0.847690  2.631182               0                  1  "
      ]
     },
     "execution_count": 49,
     "metadata": {},
     "output_type": "execute_result"
    }
   ],
   "source": [
    "diabetes_pred_df = pd.DataFrame(X_test, columns = diabetes_df.columns[0:8])\n",
    "diabetes_pred_df['Actual_Outcome'] = y_test.tolist()\n",
    "diabetes_pred_df['Predicted_Outcome'] = y_predict.tolist()\n",
    "\n",
    "diabetes_pred_df.head(10)"
   ]
  },
  {
   "cell_type": "code",
   "execution_count": 50,
   "id": "8dbccff5",
   "metadata": {},
   "outputs": [
    {
     "data": {
      "text/plain": [
       "array([[137,  14],\n",
       "       [ 41,  39]])"
      ]
     },
     "execution_count": 50,
     "metadata": {},
     "output_type": "execute_result"
    }
   ],
   "source": [
    "from sklearn.metrics import confusion_matrix, plot_confusion_matrix\n",
    "confusion_matrix(y_test, y_predict)"
   ]
  },
  {
   "cell_type": "code",
   "execution_count": 51,
   "id": "5f6bfcf8",
   "metadata": {},
   "outputs": [
    {
     "name": "stderr",
     "output_type": "stream",
     "text": [
      "/Library/Frameworks/Python.framework/Versions/3.9/lib/python3.9/site-packages/sklearn/utils/deprecation.py:87: FutureWarning: Function plot_confusion_matrix is deprecated; Function `plot_confusion_matrix` is deprecated in 1.0 and will be removed in 1.2. Use one of the class methods: ConfusionMatrixDisplay.from_predictions or ConfusionMatrixDisplay.from_estimator.\n",
      "  warnings.warn(msg, category=FutureWarning)\n"
     ]
    },
    {
     "data": {
      "text/plain": [
       "<sklearn.metrics._plot.confusion_matrix.ConfusionMatrixDisplay at 0x7f99e758b4f0>"
      ]
     },
     "execution_count": 51,
     "metadata": {},
     "output_type": "execute_result"
    },
    {
     "data": {
      "image/png": "[encoded data removed]",
      "text/plain": [
       "<Figure size 432x288 with 2 Axes>"
      ]
     },
     "metadata": {
      "needs_background": "light"
     },
     "output_type": "display_data"
    }
   ],
   "source": [
    "plot_confusion_matrix(knn, X_test, y_test)"
   ]
  },
  {
   "cell_type": "markdown",
   "id": "3be0dfbe",
   "metadata": {},
   "source": [
    "3. How did the panel influence your thoughts about working in tech, specifically work in the data realm? Discuss with your group and summarize your thoughts in under 250 words."
   ]
  },
  {
   "cell_type": "markdown",
   "id": "b606327e",
   "metadata": {},
   "source": [
    "We really liked how Michelle talked about the idea of working backwards when troubleshooting code and how the most useful function when this happens is print. I actually see myself doing a little bit of that too sometimes and it was comforting to hear that even people with ample experience approach errors in a similar way. We also discussed the assets we bring into the data science realm and how they can be a advantage to us. For example, I believe I have good differentiation and modeling skills as a teacher which can help in presenting data in a comprehendable way. "
   ]
  },
  {
   "cell_type": "code",
   "execution_count": null,
   "id": "77f616b9",
   "metadata": {},
   "outputs": [],
   "source": []
  }
 ],
 "metadata": {
  "kernelspec": {
   "display_name": "Python 3 (ipykernel)",
   "language": "python",
   "name": "python3"
  },
  "language_info": {
   "codemirror_mode": {
    "name": "ipython",
    "version": 3
   },
   "file_extension": ".py",
   "mimetype": "text/x-python",
   "name": "python",
   "nbconvert_exporter": "python",
   "pygments_lexer": "ipython3",
   "version": "3.9.7"
  }
 },
 "nbformat": 4,
 "nbformat_minor": 5
}
